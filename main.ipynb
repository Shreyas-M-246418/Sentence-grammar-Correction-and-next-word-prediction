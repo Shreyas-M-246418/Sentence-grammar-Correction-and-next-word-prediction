{
 "cells": [
  {
   "cell_type": "code",
   "execution_count": null,
   "metadata": {},
   "outputs": [],
   "source": [
    "!pip install -U git+https://github.com/PrithivirajDamodaran/Gramformer.git\n",
    "\n",
    "from gramformer import Gramformer\n",
    "\n",
    "gf=Gramformer(models=1,use_gpu=True)\n",
    "\n",
    "gf.correct(\"I has many car\")\n",
    "\n",
    "!pip install gradio\n",
    "\n",
    "import gradio as gr\n",
    "\n",
    "def correct(sen):\n",
    "  res=gf.correct(sen)\n",
    "  return res\n",
    "\n",
    "app_inputs=gr.Textbox(lines=2,placeholder=\"Enter the sentence here..\")\n",
    "\n",
    "interface=gr.Interface(fn=correct,inputs=app_inputs,outputs='text',title=\"Correct Your Sentence Here!!\")\n",
    "\n",
    "interface.launch()"
   ]
  }
 ],
 "metadata": {
  "language_info": {
   "name": "python"
  }
 },
 "nbformat": 4,
 "nbformat_minor": 2
}
